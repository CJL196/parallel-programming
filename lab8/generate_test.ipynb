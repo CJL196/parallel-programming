{
 "cells": [
  {
   "cell_type": "code",
   "execution_count": 5,
   "metadata": {},
   "outputs": [],
   "source": [
    "import csv\n",
    "import random\n",
    "\n",
    "def generate_test_data(graph_data, test_file, num_tests):\n",
    "    with open(graph_data, 'r') as f:\n",
    "        reader = csv.reader(f)\n",
    "        graph_data = list(reader)[1:]\n",
    "        vertices = set()\n",
    "        for d in graph_data:\n",
    "            vertices.add(int(d[0]))\n",
    "            vertices.add(int(d[1]))\n",
    "        vertices = sorted(list(vertices))\n",
    "    print(f'num_vertices: {len(vertices)}')\n",
    "    # 生成随机测试用例\n",
    "    test_pairs = []\n",
    "    for _ in range(num_tests):\n",
    "        source = random.choice(vertices)\n",
    "        target = random.choice(vertices)\n",
    "        test_pairs.append((source, target))\n",
    "    \n",
    "    # 将测试用例写入文件\n",
    "    with open(test_file, 'w') as f:\n",
    "        for source, target in test_pairs:\n",
    "            f.write(f\"{source} {target}\\n\")"
   ]
  },
  {
   "cell_type": "code",
   "execution_count": 6,
   "metadata": {},
   "outputs": [],
   "source": [
    "num_tests = 10000"
   ]
  },
  {
   "cell_type": "code",
   "execution_count": 7,
   "metadata": {},
   "outputs": [
    {
     "name": "stdout",
     "output_type": "stream",
     "text": [
      "num_vertices: 930\n"
     ]
    }
   ],
   "source": [
    "generate_test_data('data/updated_flower.csv', 'data/test_flower.csv', num_tests)"
   ]
  },
  {
   "cell_type": "code",
   "execution_count": 8,
   "metadata": {},
   "outputs": [
    {
     "name": "stdout",
     "output_type": "stream",
     "text": [
      "num_vertices: 525\n"
     ]
    }
   ],
   "source": [
    "generate_test_data('data/updated_mouse.csv', 'data/test_mouse.csv', num_tests)"
   ]
  }
 ],
 "metadata": {
  "kernelspec": {
   "display_name": "torch1",
   "language": "python",
   "name": "python3"
  },
  "language_info": {
   "codemirror_mode": {
    "name": "ipython",
    "version": 3
   },
   "file_extension": ".py",
   "mimetype": "text/x-python",
   "name": "python",
   "nbconvert_exporter": "python",
   "pygments_lexer": "ipython3",
   "version": "3.11.9"
  }
 },
 "nbformat": 4,
 "nbformat_minor": 2
}
